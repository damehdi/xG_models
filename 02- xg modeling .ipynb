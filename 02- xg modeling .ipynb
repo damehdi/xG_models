{
 "cells": [
  {
   "cell_type": "markdown",
   "id": "4b0fedfd",
   "metadata": {},
   "source": [
    "# Expected goals (xG) modeling \n",
    "In this Jupyter notebook, we'll create an expected-goals model, utilizing widely-recognized data science and machine learning tools such as Pandas, XGBoost, and scikit-learn. Throughout this guide, we'll cover the following stages:\n",
    "\n",
    "-  Data Loading\n",
    "- Data Preparation\n",
    "- Generating Examples and Datasets\n",
    "- Model Training\n",
    "- Model Evaluation"
   ]
  },
  {
   "cell_type": "markdown",
   "id": "cd7b6330",
   "metadata": {},
   "source": [
    "### *Imports*"
   ]
  },
  {
   "cell_type": "code",
   "execution_count": 1,
   "id": "f14932eb",
   "metadata": {},
   "outputs": [],
   "source": [
    "import os\n",
    "import warnings\n",
    "import pandas as pd \n",
    "from scipy.spatial import distance\n",
    "\n",
    "\n",
    "from xgboost import XGBClassifier\n",
    "from sklearn.metrics import average_precision_score, roc_auc_score\n",
    "from sklearn.model_selection import GridSearchCV, train_test_split\n",
    "\n",
    "from scikitplot.metrics import plot_roc_curve\n",
    "from scikitplot.metrics import plot_calibration_curve\n",
    "from scikitplot.metrics import plot_precision_recall_curve\n",
    "\n",
    "pd.set_option('display.max_columns', None)\n",
    "warnings.filterwarnings(\"ignore\")"
   ]
  },
  {
   "cell_type": "markdown",
   "id": "e3908e3e",
   "metadata": {},
   "source": [
    "##  *Dataset Overview*\n",
    "\n",
    "The dataset used in this project, provided by Sci-Sports, contains information about 127,643 soccer simiulated shots. Each record in this dataset provides comprehensive characteristics about the shot and the two actions that immediately preceded it, including:\n",
    "\n",
    "- **game_id**: a unique identifier for the football match.\n",
    "- **team_id**: a unique identifier for the team responsible for the action.\n",
    "- **player_id**: a unique identifier for the player executing the action.\n",
    "- **period**: an indicator of whether the action took place in the first half (1) or the second half (2) of the game.\n",
    "- **seconds**: the time elapsed in seconds since the start of the respective half.\n",
    "- **type_id**: a numerical code representing the type of action.\n",
    "- **type_name**: the descriptive name associated with the action type.\n",
    "- **body_part_id**: indicates whether the action involved the foot (0), head (1), or another body part (2).\n",
    "- **result**: a value of 0 indicates an unsuccessful action, while 1 signifies a successful one.\n",
    "- **start_x**: the x-coordinate denoting the starting position of the action, with values ranging from 0 to 105.\n",
    "- **start_y**: the y-coordinate indicating the starting location, ranging from 0 to 68.\n",
    "- **end_x**: the x-coordinate marking the ending location of the action, also within the range of 0 to 105.\n",
    "- **end_y**: the y-coordinate specifying the ending position, similarly within the 0 to 68 range.\n",
    "\n",
    "Note that the prefix \"action\" is used to represent the shot, while \"action1\" and \"action2\" pertain to the actions immediately preceding the shot. \n"
   ]
  },
  {
   "cell_type": "code",
   "execution_count": 2,
   "id": "e24a9fdb",
   "metadata": {
    "scrolled": false
   },
   "outputs": [
    {
     "data": {
      "text/html": [
       "<div>\n",
       "<style scoped>\n",
       "    .dataframe tbody tr th:only-of-type {\n",
       "        vertical-align: middle;\n",
       "    }\n",
       "\n",
       "    .dataframe tbody tr th {\n",
       "        vertical-align: top;\n",
       "    }\n",
       "\n",
       "    .dataframe thead th {\n",
       "        text-align: right;\n",
       "    }\n",
       "</style>\n",
       "<table border=\"1\" class=\"dataframe\">\n",
       "  <thead>\n",
       "    <tr style=\"text-align: right;\">\n",
       "      <th></th>\n",
       "      <th>action_game_id</th>\n",
       "      <th>action_team_id</th>\n",
       "      <th>action_player_id</th>\n",
       "      <th>action_period</th>\n",
       "      <th>action_seconds</th>\n",
       "      <th>action_type_name</th>\n",
       "      <th>action_body_part_id</th>\n",
       "      <th>action_result</th>\n",
       "      <th>action_start_x</th>\n",
       "      <th>action_start_y</th>\n",
       "      <th>action_end_x</th>\n",
       "      <th>action_end_y</th>\n",
       "      <th>action1_game_id</th>\n",
       "      <th>action1_team_id</th>\n",
       "      <th>action1_player_id</th>\n",
       "      <th>action1_period</th>\n",
       "      <th>action1_seconds</th>\n",
       "      <th>action1_type_name</th>\n",
       "      <th>action1_body_part_id</th>\n",
       "      <th>action1_result</th>\n",
       "      <th>action1_start_x</th>\n",
       "      <th>action1_start_y</th>\n",
       "      <th>action1_end_x</th>\n",
       "      <th>action1_end_y</th>\n",
       "      <th>action2_game_id</th>\n",
       "      <th>action2_team_id</th>\n",
       "      <th>action2_period</th>\n",
       "      <th>action2_seconds</th>\n",
       "      <th>action2_type_id</th>\n",
       "      <th>action2_type_name</th>\n",
       "      <th>action2_body_part_id</th>\n",
       "      <th>action2_result</th>\n",
       "      <th>action2_start_x</th>\n",
       "      <th>action2_start_y</th>\n",
       "      <th>action2_end_x</th>\n",
       "      <th>action2_end_y</th>\n",
       "    </tr>\n",
       "  </thead>\n",
       "  <tbody>\n",
       "    <tr>\n",
       "      <th>0</th>\n",
       "      <td>0</td>\n",
       "      <td>6</td>\n",
       "      <td>5703</td>\n",
       "      <td>1</td>\n",
       "      <td>188.23</td>\n",
       "      <td>shot</td>\n",
       "      <td>0</td>\n",
       "      <td>0</td>\n",
       "      <td>98.75</td>\n",
       "      <td>40.17</td>\n",
       "      <td>105.0</td>\n",
       "      <td>40.85</td>\n",
       "      <td>0.0</td>\n",
       "      <td>6.0</td>\n",
       "      <td>3726.0</td>\n",
       "      <td>1.0</td>\n",
       "      <td>187.75</td>\n",
       "      <td>cross</td>\n",
       "      <td>0.0</td>\n",
       "      <td>1.0</td>\n",
       "      <td>99.28</td>\n",
       "      <td>49.54</td>\n",
       "      <td>99.28</td>\n",
       "      <td>40.70</td>\n",
       "      <td>0.0</td>\n",
       "      <td>6.0</td>\n",
       "      <td>1.0</td>\n",
       "      <td>185.62</td>\n",
       "      <td>0.0</td>\n",
       "      <td>pass</td>\n",
       "      <td>0.0</td>\n",
       "      <td>1.0</td>\n",
       "      <td>93.53</td>\n",
       "      <td>65.36</td>\n",
       "      <td>98.78</td>\n",
       "      <td>49.04</td>\n",
       "    </tr>\n",
       "    <tr>\n",
       "      <th>1</th>\n",
       "      <td>0</td>\n",
       "      <td>6</td>\n",
       "      <td>3726</td>\n",
       "      <td>1</td>\n",
       "      <td>609.31</td>\n",
       "      <td>shot</td>\n",
       "      <td>0</td>\n",
       "      <td>0</td>\n",
       "      <td>84.20</td>\n",
       "      <td>48.48</td>\n",
       "      <td>105.0</td>\n",
       "      <td>27.40</td>\n",
       "      <td>0.0</td>\n",
       "      <td>6.0</td>\n",
       "      <td>5797.0</td>\n",
       "      <td>1.0</td>\n",
       "      <td>607.57</td>\n",
       "      <td>pass</td>\n",
       "      <td>0.0</td>\n",
       "      <td>1.0</td>\n",
       "      <td>97.48</td>\n",
       "      <td>60.35</td>\n",
       "      <td>83.83</td>\n",
       "      <td>48.11</td>\n",
       "      <td>0.0</td>\n",
       "      <td>6.0</td>\n",
       "      <td>1.0</td>\n",
       "      <td>606.29</td>\n",
       "      <td>0.0</td>\n",
       "      <td>pass</td>\n",
       "      <td>0.0</td>\n",
       "      <td>1.0</td>\n",
       "      <td>89.66</td>\n",
       "      <td>61.61</td>\n",
       "      <td>98.06</td>\n",
       "      <td>60.93</td>\n",
       "    </tr>\n",
       "    <tr>\n",
       "      <th>2</th>\n",
       "      <td>0</td>\n",
       "      <td>281</td>\n",
       "      <td>2690</td>\n",
       "      <td>1</td>\n",
       "      <td>969.28</td>\n",
       "      <td>shot</td>\n",
       "      <td>0</td>\n",
       "      <td>0</td>\n",
       "      <td>92.68</td>\n",
       "      <td>46.52</td>\n",
       "      <td>105.0</td>\n",
       "      <td>41.08</td>\n",
       "      <td>0.0</td>\n",
       "      <td>281.0</td>\n",
       "      <td>6886.0</td>\n",
       "      <td>1.0</td>\n",
       "      <td>967.00</td>\n",
       "      <td>pass</td>\n",
       "      <td>0.0</td>\n",
       "      <td>1.0</td>\n",
       "      <td>88.35</td>\n",
       "      <td>62.71</td>\n",
       "      <td>92.55</td>\n",
       "      <td>46.39</td>\n",
       "      <td>0.0</td>\n",
       "      <td>281.0</td>\n",
       "      <td>1.0</td>\n",
       "      <td>963.64</td>\n",
       "      <td>0.0</td>\n",
       "      <td>pass</td>\n",
       "      <td>0.0</td>\n",
       "      <td>1.0</td>\n",
       "      <td>72.30</td>\n",
       "      <td>60.37</td>\n",
       "      <td>88.05</td>\n",
       "      <td>62.41</td>\n",
       "    </tr>\n",
       "    <tr>\n",
       "      <th>3</th>\n",
       "      <td>0</td>\n",
       "      <td>6</td>\n",
       "      <td>4070</td>\n",
       "      <td>1</td>\n",
       "      <td>1193.44</td>\n",
       "      <td>shot</td>\n",
       "      <td>0</td>\n",
       "      <td>0</td>\n",
       "      <td>94.40</td>\n",
       "      <td>46.14</td>\n",
       "      <td>104.9</td>\n",
       "      <td>37.30</td>\n",
       "      <td>0.0</td>\n",
       "      <td>6.0</td>\n",
       "      <td>3726.0</td>\n",
       "      <td>1.0</td>\n",
       "      <td>1191.37</td>\n",
       "      <td>pass</td>\n",
       "      <td>1.0</td>\n",
       "      <td>1.0</td>\n",
       "      <td>89.30</td>\n",
       "      <td>64.65</td>\n",
       "      <td>94.55</td>\n",
       "      <td>46.29</td>\n",
       "      <td>0.0</td>\n",
       "      <td>6.0</td>\n",
       "      <td>1.0</td>\n",
       "      <td>1189.19</td>\n",
       "      <td>0.0</td>\n",
       "      <td>pass</td>\n",
       "      <td>0.0</td>\n",
       "      <td>1.0</td>\n",
       "      <td>73.04</td>\n",
       "      <td>15.18</td>\n",
       "      <td>88.79</td>\n",
       "      <td>64.14</td>\n",
       "    </tr>\n",
       "    <tr>\n",
       "      <th>4</th>\n",
       "      <td>0</td>\n",
       "      <td>6</td>\n",
       "      <td>6514</td>\n",
       "      <td>1</td>\n",
       "      <td>1359.36</td>\n",
       "      <td>shot</td>\n",
       "      <td>1</td>\n",
       "      <td>0</td>\n",
       "      <td>93.52</td>\n",
       "      <td>27.95</td>\n",
       "      <td>105.0</td>\n",
       "      <td>40.87</td>\n",
       "      <td>0.0</td>\n",
       "      <td>6.0</td>\n",
       "      <td>6514.0</td>\n",
       "      <td>1.0</td>\n",
       "      <td>1357.96</td>\n",
       "      <td>dribble</td>\n",
       "      <td>0.0</td>\n",
       "      <td>1.0</td>\n",
       "      <td>96.79</td>\n",
       "      <td>28.07</td>\n",
       "      <td>93.64</td>\n",
       "      <td>28.07</td>\n",
       "      <td>0.0</td>\n",
       "      <td>6.0</td>\n",
       "      <td>1.0</td>\n",
       "      <td>1356.12</td>\n",
       "      <td>3.0</td>\n",
       "      <td>freekick_crossed</td>\n",
       "      <td>0.0</td>\n",
       "      <td>1.0</td>\n",
       "      <td>79.67</td>\n",
       "      <td>6.67</td>\n",
       "      <td>96.47</td>\n",
       "      <td>27.75</td>\n",
       "    </tr>\n",
       "  </tbody>\n",
       "</table>\n",
       "</div>"
      ],
      "text/plain": [
       "   action_game_id  action_team_id  action_player_id  action_period  \\\n",
       "0               0               6              5703              1   \n",
       "1               0               6              3726              1   \n",
       "2               0             281              2690              1   \n",
       "3               0               6              4070              1   \n",
       "4               0               6              6514              1   \n",
       "\n",
       "   action_seconds action_type_name  action_body_part_id  action_result  \\\n",
       "0          188.23             shot                    0              0   \n",
       "1          609.31             shot                    0              0   \n",
       "2          969.28             shot                    0              0   \n",
       "3         1193.44             shot                    0              0   \n",
       "4         1359.36             shot                    1              0   \n",
       "\n",
       "   action_start_x  action_start_y  action_end_x  action_end_y  \\\n",
       "0           98.75           40.17         105.0         40.85   \n",
       "1           84.20           48.48         105.0         27.40   \n",
       "2           92.68           46.52         105.0         41.08   \n",
       "3           94.40           46.14         104.9         37.30   \n",
       "4           93.52           27.95         105.0         40.87   \n",
       "\n",
       "   action1_game_id  action1_team_id  action1_player_id  action1_period  \\\n",
       "0              0.0              6.0             3726.0             1.0   \n",
       "1              0.0              6.0             5797.0             1.0   \n",
       "2              0.0            281.0             6886.0             1.0   \n",
       "3              0.0              6.0             3726.0             1.0   \n",
       "4              0.0              6.0             6514.0             1.0   \n",
       "\n",
       "   action1_seconds action1_type_name  action1_body_part_id  action1_result  \\\n",
       "0           187.75             cross                   0.0             1.0   \n",
       "1           607.57              pass                   0.0             1.0   \n",
       "2           967.00              pass                   0.0             1.0   \n",
       "3          1191.37              pass                   1.0             1.0   \n",
       "4          1357.96           dribble                   0.0             1.0   \n",
       "\n",
       "   action1_start_x  action1_start_y  action1_end_x  action1_end_y  \\\n",
       "0            99.28            49.54          99.28          40.70   \n",
       "1            97.48            60.35          83.83          48.11   \n",
       "2            88.35            62.71          92.55          46.39   \n",
       "3            89.30            64.65          94.55          46.29   \n",
       "4            96.79            28.07          93.64          28.07   \n",
       "\n",
       "   action2_game_id  action2_team_id  action2_period  action2_seconds  \\\n",
       "0              0.0              6.0             1.0           185.62   \n",
       "1              0.0              6.0             1.0           606.29   \n",
       "2              0.0            281.0             1.0           963.64   \n",
       "3              0.0              6.0             1.0          1189.19   \n",
       "4              0.0              6.0             1.0          1356.12   \n",
       "\n",
       "   action2_type_id action2_type_name  action2_body_part_id  action2_result  \\\n",
       "0              0.0              pass                   0.0             1.0   \n",
       "1              0.0              pass                   0.0             1.0   \n",
       "2              0.0              pass                   0.0             1.0   \n",
       "3              0.0              pass                   0.0             1.0   \n",
       "4              3.0  freekick_crossed                   0.0             1.0   \n",
       "\n",
       "   action2_start_x  action2_start_y  action2_end_x  action2_end_y  \n",
       "0            93.53            65.36          98.78          49.04  \n",
       "1            89.66            61.61          98.06          60.93  \n",
       "2            72.30            60.37          88.05          62.41  \n",
       "3            73.04            15.18          88.79          64.14  \n",
       "4            79.67             6.67          96.47          27.75  "
      ]
     },
     "execution_count": 2,
     "metadata": {},
     "output_type": "execute_result"
    }
   ],
   "source": [
    "shots_df= pd.read_parquet('data/shots/scisports-shots.parquet')\n",
    "shots_df.head()"
   ]
  },
  {
   "cell_type": "code",
   "execution_count": 3,
   "id": "adda30f3",
   "metadata": {},
   "outputs": [
    {
     "name": "stdout",
     "output_type": "stream",
     "text": [
      "Our dataset describes 127643 shots by 36 columns.\n"
     ]
    }
   ],
   "source": [
    "print(f'Our dataset describes {shots_df.shape[0]} shots by {shots_df.shape[1]} columns.')"
   ]
  },
  {
   "cell_type": "markdown",
   "id": "4eb21997",
   "metadata": {},
   "source": [
    "### *Mapping*:\n",
    "\n",
    "The mapping between the `type_id` and `type_name` values is as follows:\n",
    "* 0: pass\n",
    "* 1: cross\n",
    "* 2: throw in\n",
    "* 3: freekick crossed\n",
    "* 4: freekick short\n",
    "* 5: corner crossed\n",
    "* 6: corner short\n",
    "* 7: take on\n",
    "* 8: foul\n",
    "* 9: tackle\n",
    "* 10: interception\n",
    "* 11: shot\n",
    "* 12: shot penalty\n",
    "* 13: shot freekick\n",
    "* 14: keeper save\n",
    "* 18: clearance\n",
    "* 21: dribble\n",
    "* 22: goalkick\n"
   ]
  },
  {
   "cell_type": "code",
   "execution_count": 4,
   "id": "34534979",
   "metadata": {},
   "outputs": [
    {
     "data": {
      "text/html": [
       "<div>\n",
       "<style scoped>\n",
       "    .dataframe tbody tr th:only-of-type {\n",
       "        vertical-align: middle;\n",
       "    }\n",
       "\n",
       "    .dataframe tbody tr th {\n",
       "        vertical-align: top;\n",
       "    }\n",
       "\n",
       "    .dataframe thead th {\n",
       "        text-align: right;\n",
       "    }\n",
       "</style>\n",
       "<table border=\"1\" class=\"dataframe\">\n",
       "  <thead>\n",
       "    <tr style=\"text-align: right;\">\n",
       "      <th></th>\n",
       "      <th>action_type_id</th>\n",
       "      <th>action1_type_id</th>\n",
       "      <th>action2_type_id</th>\n",
       "    </tr>\n",
       "  </thead>\n",
       "  <tbody>\n",
       "    <tr>\n",
       "      <th>0</th>\n",
       "      <td>11</td>\n",
       "      <td>1</td>\n",
       "      <td>0</td>\n",
       "    </tr>\n",
       "    <tr>\n",
       "      <th>1</th>\n",
       "      <td>11</td>\n",
       "      <td>0</td>\n",
       "      <td>0</td>\n",
       "    </tr>\n",
       "    <tr>\n",
       "      <th>2</th>\n",
       "      <td>11</td>\n",
       "      <td>0</td>\n",
       "      <td>0</td>\n",
       "    </tr>\n",
       "    <tr>\n",
       "      <th>3</th>\n",
       "      <td>11</td>\n",
       "      <td>0</td>\n",
       "      <td>0</td>\n",
       "    </tr>\n",
       "    <tr>\n",
       "      <th>4</th>\n",
       "      <td>11</td>\n",
       "      <td>21</td>\n",
       "      <td>3</td>\n",
       "    </tr>\n",
       "    <tr>\n",
       "      <th>...</th>\n",
       "      <td>...</td>\n",
       "      <td>...</td>\n",
       "      <td>...</td>\n",
       "    </tr>\n",
       "    <tr>\n",
       "      <th>127638</th>\n",
       "      <td>11</td>\n",
       "      <td>0</td>\n",
       "      <td>0</td>\n",
       "    </tr>\n",
       "    <tr>\n",
       "      <th>127639</th>\n",
       "      <td>11</td>\n",
       "      <td>21</td>\n",
       "      <td>7</td>\n",
       "    </tr>\n",
       "    <tr>\n",
       "      <th>127640</th>\n",
       "      <td>11</td>\n",
       "      <td>1</td>\n",
       "      <td>0</td>\n",
       "    </tr>\n",
       "    <tr>\n",
       "      <th>127641</th>\n",
       "      <td>11</td>\n",
       "      <td>21</td>\n",
       "      <td>0</td>\n",
       "    </tr>\n",
       "    <tr>\n",
       "      <th>127642</th>\n",
       "      <td>11</td>\n",
       "      <td>21</td>\n",
       "      <td>7</td>\n",
       "    </tr>\n",
       "  </tbody>\n",
       "</table>\n",
       "<p>127643 rows × 3 columns</p>\n",
       "</div>"
      ],
      "text/plain": [
       "        action_type_id  action1_type_id  action2_type_id\n",
       "0                   11                1                0\n",
       "1                   11                0                0\n",
       "2                   11                0                0\n",
       "3                   11                0                0\n",
       "4                   11               21                3\n",
       "...                ...              ...              ...\n",
       "127638              11                0                0\n",
       "127639              11               21                7\n",
       "127640              11                1                0\n",
       "127641              11               21                0\n",
       "127642              11               21                7\n",
       "\n",
       "[127643 rows x 3 columns]"
      ]
     },
     "execution_count": 4,
     "metadata": {},
     "output_type": "execute_result"
    }
   ],
   "source": [
    "actions= ['action', 'action1', 'action2']\n",
    "\n",
    "type_mapping = {\n",
    "    \n",
    "    'pass': 0,\n",
    "    'cross': 1,\n",
    "    'throw_in': 2,\n",
    "    'freekick_crossed': 3,\n",
    "    'freekick_short': 4,\n",
    "    'corner_crossed': 5,\n",
    "    'corner_short': 6,\n",
    "    'take_on': 7,\n",
    "    'foul': 8,\n",
    "    'tackle': 9,\n",
    "    'interception': 10,\n",
    "    'shot': 11, \n",
    "    'shot_penalty': 12,\n",
    "    'shot_freekick': 13, \n",
    "    'keeper_save': 14,\n",
    "    'clearance': 18, \n",
    "    'dribble': 21, \n",
    "    'goalkick': 22\n",
    "}\n",
    "\n",
    "for action in actions:\n",
    "    \n",
    "    action_name= f'{action}_type_name'\n",
    "    action_id= f'{action}_type_id'\n",
    "    shots_df[action_id]= shots_df[action_name].map(type_mapping)\n",
    "\n",
    "shots_df[['action_type_id', 'action1_type_id', 'action2_type_id']]"
   ]
  },
  {
   "cell_type": "markdown",
   "id": "e4500946",
   "metadata": {},
   "source": [
    "### *Features' locations normalization*\n",
    "To enhance the performance of the learning algorithm, we transform the location features, originally on different scales, into a standardized range of 0 to 1. Hence, dividing the X-coordinate of the locations by the pitch's length (105) and the Y-coordinate by the pitch's width (68)."
   ]
  },
  {
   "cell_type": "code",
   "execution_count": 5,
   "id": "2824772d",
   "metadata": {},
   "outputs": [],
   "source": [
    "for action in actions:\n",
    "    for side in ['start', 'end']:\n",
    "        \n",
    "        # normalizing the X and Y coordinates \n",
    "        key_x = '{}_{}_x'.format(action, side)\n",
    "        shots_df[key_x] = shots_df[key_x] / 105\n",
    "        key_y = '{}_{}_y'.format(action, side)\n",
    "        shots_df[key_y] = shots_df[key_y] / 68"
   ]
  },
  {
   "cell_type": "markdown",
   "id": "c2461823",
   "metadata": {},
   "source": [
    "### *Compute additional features*\n",
    "We compute the Eucledian distances between the start location of each of the three actions and the center of the opposing goal, which is located at coordinates (1, 0.5) in our normalized coordinate representation. \n",
    "\n",
    "We also consider the shot angle, which is defined as the angle between the shooter's position and the goalposts."
   ]
  },
  {
   "cell_type": "code",
   "execution_count": 6,
   "id": "34863924",
   "metadata": {},
   "outputs": [],
   "source": [
    "goal= (0,1)\n",
    "\n",
    "for action in actions:\n",
    "    \n",
    "    # inititating the names of columns we're going to add\n",
    "    x = '{action}_start_x'.format(action=action)\n",
    "    y = '{action}_start_y'.format(action=action)\n",
    "    distance_ = '{action}_start_distance'.format(action=action)\n",
    "    \n",
    "    # adding the columns\n",
    "    shots_df[distance_] = shots_df.apply(lambda s: distance.euclidean((s[x], s[y]), goal), axis=1)"
   ]
  },
  {
   "cell_type": "markdown",
   "id": "255b520b",
   "metadata": {},
   "source": [
    "### *Keeping useful features and splitting our dataset*\n",
    "We construct our dataset by selecting a subset of the available features. II may use a limited number of features such as the location of the shot (`action_start_x` and `action_start_y`), the body part used by the shot taker (`action_body_part_id`), and the distances between the locations of the three actions and the center of the opposing goal (`action_start_distance`, `action1_start_distance`, and `action2_start_distance`), and the  (`shot_angle`).\n"
   ]
  },
  {
   "cell_type": "code",
   "execution_count": 7,
   "id": "042e9e0f",
   "metadata": {},
   "outputs": [],
   "source": [
    "# features to keep\n",
    "features_columns = ['action_start_x', 'action_start_y', 'action_body_part_id', 'action_start_distance',\n",
    "                    'action1_start_distance', 'action2_start_distance']\n",
    "\n",
    "# labeling: 1 if a goal, 0 otherwise\n",
    "column_target = 'action_result'"
   ]
  },
  {
   "cell_type": "code",
   "execution_count": 8,
   "id": "c8d37185",
   "metadata": {},
   "outputs": [],
   "source": [
    "X = shots_df[features_columns]\n",
    "y = shots_df[column_target]"
   ]
  },
  {
   "cell_type": "code",
   "execution_count": 9,
   "id": "77a437f9",
   "metadata": {},
   "outputs": [],
   "source": [
    "X_train, X_test, y_train, y_test = train_test_split(X, y, test_size=0.10)"
   ]
  },
  {
   "cell_type": "markdown",
   "id": "03747a8b",
   "metadata": {},
   "source": [
    "### *Learn the model*\n",
    "To train our expected-goals model using the XGBoost algorithm, but you can experience with any other algorithm. \n",
    "\n",
    "For the model initiation I choose to employ a grid search to optimize hyperparameters automatically.\n",
    "\n",
    "For more details on these hyperparameters, please refer to the [XGBoost Parameters page](http://xgboost.readthedocs.io/en/latest/parameter.html). "
   ]
  },
  {
   "cell_type": "code",
   "execution_count": 10,
   "id": "5f879df1",
   "metadata": {
    "scrolled": false
   },
   "outputs": [
    {
     "name": "stdout",
     "output_type": "stream",
     "text": [
      "Fitting 5 folds for each of 12 candidates, totalling 60 fits\n",
      "[CV] END learning_rate=0.01, max_depth=3, n_estimators=100, nthread=4, objective=binary:logistic, seed=42; total time=   0.4s\n",
      "[CV] END learning_rate=0.01, max_depth=3, n_estimators=100, nthread=4, objective=binary:logistic, seed=42; total time=   0.5s\n",
      "[CV] END learning_rate=0.01, max_depth=3, n_estimators=100, nthread=4, objective=binary:logistic, seed=42; total time=   0.4s\n",
      "[CV] END learning_rate=0.01, max_depth=3, n_estimators=100, nthread=4, objective=binary:logistic, seed=42; total time=   0.4s\n",
      "[CV] END learning_rate=0.01, max_depth=3, n_estimators=100, nthread=4, objective=binary:logistic, seed=42; total time=   0.4s\n",
      "[CV] END learning_rate=0.01, max_depth=3, n_estimators=500, nthread=4, objective=binary:logistic, seed=42; total time=   1.3s\n",
      "[CV] END learning_rate=0.01, max_depth=3, n_estimators=500, nthread=4, objective=binary:logistic, seed=42; total time=   1.9s\n",
      "[CV] END learning_rate=0.01, max_depth=3, n_estimators=500, nthread=4, objective=binary:logistic, seed=42; total time=   1.8s\n",
      "[CV] END learning_rate=0.01, max_depth=3, n_estimators=500, nthread=4, objective=binary:logistic, seed=42; total time=   2.1s\n",
      "[CV] END learning_rate=0.01, max_depth=3, n_estimators=500, nthread=4, objective=binary:logistic, seed=42; total time=   1.9s\n",
      "[CV] END learning_rate=0.01, max_depth=3, n_estimators=1000, nthread=4, objective=binary:logistic, seed=42; total time=   2.8s\n",
      "[CV] END learning_rate=0.01, max_depth=3, n_estimators=1000, nthread=4, objective=binary:logistic, seed=42; total time=   2.6s\n",
      "[CV] END learning_rate=0.01, max_depth=3, n_estimators=1000, nthread=4, objective=binary:logistic, seed=42; total time=   2.3s\n",
      "[CV] END learning_rate=0.01, max_depth=3, n_estimators=1000, nthread=4, objective=binary:logistic, seed=42; total time=   2.8s\n",
      "[CV] END learning_rate=0.01, max_depth=3, n_estimators=1000, nthread=4, objective=binary:logistic, seed=42; total time=   2.9s\n",
      "[CV] END learning_rate=0.01, max_depth=4, n_estimators=100, nthread=4, objective=binary:logistic, seed=42; total time=   0.5s\n",
      "[CV] END learning_rate=0.01, max_depth=4, n_estimators=100, nthread=4, objective=binary:logistic, seed=42; total time=   0.5s\n",
      "[CV] END learning_rate=0.01, max_depth=4, n_estimators=100, nthread=4, objective=binary:logistic, seed=42; total time=   0.4s\n",
      "[CV] END learning_rate=0.01, max_depth=4, n_estimators=100, nthread=4, objective=binary:logistic, seed=42; total time=   0.4s\n",
      "[CV] END learning_rate=0.01, max_depth=4, n_estimators=100, nthread=4, objective=binary:logistic, seed=42; total time=   0.4s\n",
      "[CV] END learning_rate=0.01, max_depth=4, n_estimators=500, nthread=4, objective=binary:logistic, seed=42; total time=   1.9s\n",
      "[CV] END learning_rate=0.01, max_depth=4, n_estimators=500, nthread=4, objective=binary:logistic, seed=42; total time=   2.1s\n",
      "[CV] END learning_rate=0.01, max_depth=4, n_estimators=500, nthread=4, objective=binary:logistic, seed=42; total time=   1.6s\n",
      "[CV] END learning_rate=0.01, max_depth=4, n_estimators=500, nthread=4, objective=binary:logistic, seed=42; total time=   1.5s\n",
      "[CV] END learning_rate=0.01, max_depth=4, n_estimators=500, nthread=4, objective=binary:logistic, seed=42; total time=   1.6s\n",
      "[CV] END learning_rate=0.01, max_depth=4, n_estimators=1000, nthread=4, objective=binary:logistic, seed=42; total time=   3.3s\n",
      "[CV] END learning_rate=0.01, max_depth=4, n_estimators=1000, nthread=4, objective=binary:logistic, seed=42; total time=   3.3s\n",
      "[CV] END learning_rate=0.01, max_depth=4, n_estimators=1000, nthread=4, objective=binary:logistic, seed=42; total time=   3.6s\n",
      "[CV] END learning_rate=0.01, max_depth=4, n_estimators=1000, nthread=4, objective=binary:logistic, seed=42; total time=   3.1s\n",
      "[CV] END learning_rate=0.01, max_depth=4, n_estimators=1000, nthread=4, objective=binary:logistic, seed=42; total time=   3.1s\n",
      "[CV] END learning_rate=0.01, max_depth=5, n_estimators=100, nthread=4, objective=binary:logistic, seed=42; total time=   0.5s\n",
      "[CV] END learning_rate=0.01, max_depth=5, n_estimators=100, nthread=4, objective=binary:logistic, seed=42; total time=   0.5s\n",
      "[CV] END learning_rate=0.01, max_depth=5, n_estimators=100, nthread=4, objective=binary:logistic, seed=42; total time=   0.6s\n",
      "[CV] END learning_rate=0.01, max_depth=5, n_estimators=100, nthread=4, objective=binary:logistic, seed=42; total time=   0.5s\n",
      "[CV] END learning_rate=0.01, max_depth=5, n_estimators=100, nthread=4, objective=binary:logistic, seed=42; total time=   0.5s\n",
      "[CV] END learning_rate=0.01, max_depth=5, n_estimators=500, nthread=4, objective=binary:logistic, seed=42; total time=   1.7s\n",
      "[CV] END learning_rate=0.01, max_depth=5, n_estimators=500, nthread=4, objective=binary:logistic, seed=42; total time=   2.0s\n",
      "[CV] END learning_rate=0.01, max_depth=5, n_estimators=500, nthread=4, objective=binary:logistic, seed=42; total time=   1.9s\n",
      "[CV] END learning_rate=0.01, max_depth=5, n_estimators=500, nthread=4, objective=binary:logistic, seed=42; total time=   2.0s\n",
      "[CV] END learning_rate=0.01, max_depth=5, n_estimators=500, nthread=4, objective=binary:logistic, seed=42; total time=   1.9s\n",
      "[CV] END learning_rate=0.01, max_depth=5, n_estimators=1000, nthread=4, objective=binary:logistic, seed=42; total time=   3.5s\n",
      "[CV] END learning_rate=0.01, max_depth=5, n_estimators=1000, nthread=4, objective=binary:logistic, seed=42; total time=   4.1s\n",
      "[CV] END learning_rate=0.01, max_depth=5, n_estimators=1000, nthread=4, objective=binary:logistic, seed=42; total time=   3.9s\n",
      "[CV] END learning_rate=0.01, max_depth=5, n_estimators=1000, nthread=4, objective=binary:logistic, seed=42; total time=   3.8s\n",
      "[CV] END learning_rate=0.01, max_depth=5, n_estimators=1000, nthread=4, objective=binary:logistic, seed=42; total time=   3.4s\n",
      "[CV] END learning_rate=0.01, max_depth=6, n_estimators=100, nthread=4, objective=binary:logistic, seed=42; total time=   0.5s\n",
      "[CV] END learning_rate=0.01, max_depth=6, n_estimators=100, nthread=4, objective=binary:logistic, seed=42; total time=   0.5s\n",
      "[CV] END learning_rate=0.01, max_depth=6, n_estimators=100, nthread=4, objective=binary:logistic, seed=42; total time=   0.6s\n",
      "[CV] END learning_rate=0.01, max_depth=6, n_estimators=100, nthread=4, objective=binary:logistic, seed=42; total time=   0.6s\n",
      "[CV] END learning_rate=0.01, max_depth=6, n_estimators=100, nthread=4, objective=binary:logistic, seed=42; total time=   0.6s\n",
      "[CV] END learning_rate=0.01, max_depth=6, n_estimators=500, nthread=4, objective=binary:logistic, seed=42; total time=   2.0s\n",
      "[CV] END learning_rate=0.01, max_depth=6, n_estimators=500, nthread=4, objective=binary:logistic, seed=42; total time=   2.2s\n",
      "[CV] END learning_rate=0.01, max_depth=6, n_estimators=500, nthread=4, objective=binary:logistic, seed=42; total time=   1.9s\n",
      "[CV] END learning_rate=0.01, max_depth=6, n_estimators=500, nthread=4, objective=binary:logistic, seed=42; total time=   1.9s\n",
      "[CV] END learning_rate=0.01, max_depth=6, n_estimators=500, nthread=4, objective=binary:logistic, seed=42; total time=   2.2s\n",
      "[CV] END learning_rate=0.01, max_depth=6, n_estimators=1000, nthread=4, objective=binary:logistic, seed=42; total time=   4.0s\n",
      "[CV] END learning_rate=0.01, max_depth=6, n_estimators=1000, nthread=4, objective=binary:logistic, seed=42; total time=   4.6s\n",
      "[CV] END learning_rate=0.01, max_depth=6, n_estimators=1000, nthread=4, objective=binary:logistic, seed=42; total time=   4.8s\n",
      "[CV] END learning_rate=0.01, max_depth=6, n_estimators=1000, nthread=4, objective=binary:logistic, seed=42; total time=   4.0s\n",
      "[CV] END learning_rate=0.01, max_depth=6, n_estimators=1000, nthread=4, objective=binary:logistic, seed=42; total time=   3.6s\n"
     ]
    },
    {
     "data": {
      "text/html": [
       "<style>#sk-container-id-1 {color: black;}#sk-container-id-1 pre{padding: 0;}#sk-container-id-1 div.sk-toggleable {background-color: white;}#sk-container-id-1 label.sk-toggleable__label {cursor: pointer;display: block;width: 100%;margin-bottom: 0;padding: 0.3em;box-sizing: border-box;text-align: center;}#sk-container-id-1 label.sk-toggleable__label-arrow:before {content: \"▸\";float: left;margin-right: 0.25em;color: #696969;}#sk-container-id-1 label.sk-toggleable__label-arrow:hover:before {color: black;}#sk-container-id-1 div.sk-estimator:hover label.sk-toggleable__label-arrow:before {color: black;}#sk-container-id-1 div.sk-toggleable__content {max-height: 0;max-width: 0;overflow: hidden;text-align: left;background-color: #f0f8ff;}#sk-container-id-1 div.sk-toggleable__content pre {margin: 0.2em;color: black;border-radius: 0.25em;background-color: #f0f8ff;}#sk-container-id-1 input.sk-toggleable__control:checked~div.sk-toggleable__content {max-height: 200px;max-width: 100%;overflow: auto;}#sk-container-id-1 input.sk-toggleable__control:checked~label.sk-toggleable__label-arrow:before {content: \"▾\";}#sk-container-id-1 div.sk-estimator input.sk-toggleable__control:checked~label.sk-toggleable__label {background-color: #d4ebff;}#sk-container-id-1 div.sk-label input.sk-toggleable__control:checked~label.sk-toggleable__label {background-color: #d4ebff;}#sk-container-id-1 input.sk-hidden--visually {border: 0;clip: rect(1px 1px 1px 1px);clip: rect(1px, 1px, 1px, 1px);height: 1px;margin: -1px;overflow: hidden;padding: 0;position: absolute;width: 1px;}#sk-container-id-1 div.sk-estimator {font-family: monospace;background-color: #f0f8ff;border: 1px dotted black;border-radius: 0.25em;box-sizing: border-box;margin-bottom: 0.5em;}#sk-container-id-1 div.sk-estimator:hover {background-color: #d4ebff;}#sk-container-id-1 div.sk-parallel-item::after {content: \"\";width: 100%;border-bottom: 1px solid gray;flex-grow: 1;}#sk-container-id-1 div.sk-label:hover label.sk-toggleable__label {background-color: #d4ebff;}#sk-container-id-1 div.sk-serial::before {content: \"\";position: absolute;border-left: 1px solid gray;box-sizing: border-box;top: 0;bottom: 0;left: 50%;z-index: 0;}#sk-container-id-1 div.sk-serial {display: flex;flex-direction: column;align-items: center;background-color: white;padding-right: 0.2em;padding-left: 0.2em;position: relative;}#sk-container-id-1 div.sk-item {position: relative;z-index: 1;}#sk-container-id-1 div.sk-parallel {display: flex;align-items: stretch;justify-content: center;background-color: white;position: relative;}#sk-container-id-1 div.sk-item::before, #sk-container-id-1 div.sk-parallel-item::before {content: \"\";position: absolute;border-left: 1px solid gray;box-sizing: border-box;top: 0;bottom: 0;left: 50%;z-index: -1;}#sk-container-id-1 div.sk-parallel-item {display: flex;flex-direction: column;z-index: 1;position: relative;background-color: white;}#sk-container-id-1 div.sk-parallel-item:first-child::after {align-self: flex-end;width: 50%;}#sk-container-id-1 div.sk-parallel-item:last-child::after {align-self: flex-start;width: 50%;}#sk-container-id-1 div.sk-parallel-item:only-child::after {width: 0;}#sk-container-id-1 div.sk-dashed-wrapped {border: 1px dashed gray;margin: 0 0.4em 0.5em 0.4em;box-sizing: border-box;padding-bottom: 0.4em;background-color: white;}#sk-container-id-1 div.sk-label label {font-family: monospace;font-weight: bold;display: inline-block;line-height: 1.2em;}#sk-container-id-1 div.sk-label-container {text-align: center;}#sk-container-id-1 div.sk-container {/* jupyter's `normalize.less` sets `[hidden] { display: none; }` but bootstrap.min.css set `[hidden] { display: none !important; }` so we also need the `!important` here to be able to override the default hidden behavior on the sphinx rendered scikit-learn.org. See: https://github.com/scikit-learn/scikit-learn/issues/21755 */display: inline-block !important;position: relative;}#sk-container-id-1 div.sk-text-repr-fallback {display: none;}</style><div id=\"sk-container-id-1\" class=\"sk-top-container\"><div class=\"sk-text-repr-fallback\"><pre>GridSearchCV(estimator=XGBClassifier(base_score=None, booster=None,\n",
       "                                     callbacks=None, colsample_bylevel=None,\n",
       "                                     colsample_bynode=None,\n",
       "                                     colsample_bytree=None, device=None,\n",
       "                                     early_stopping_rounds=None,\n",
       "                                     enable_categorical=False, eval_metric=None,\n",
       "                                     feature_types=None, gamma=None,\n",
       "                                     grow_policy=None, importance_type=None,\n",
       "                                     interaction_constraints=None,\n",
       "                                     learning_rate=None, max_b...\n",
       "                                     max_delta_step=None, max_depth=None,\n",
       "                                     max_leaves=None, min_child_weight=None,\n",
       "                                     missing=nan, monotone_constraints=None,\n",
       "                                     multi_strategy=None, n_estimators=None,\n",
       "                                     n_jobs=None, num_parallel_tree=None,\n",
       "                                     random_state=None, ...),\n",
       "             param_grid={&#x27;learning_rate&#x27;: [0.01], &#x27;max_depth&#x27;: [3, 4, 5, 6],\n",
       "                         &#x27;n_estimators&#x27;: [100, 500, 1000], &#x27;nthread&#x27;: [4],\n",
       "                         &#x27;objective&#x27;: [&#x27;binary:logistic&#x27;], &#x27;seed&#x27;: [42]},\n",
       "             scoring=&#x27;roc_auc&#x27;, verbose=2)</pre><b>In a Jupyter environment, please rerun this cell to show the HTML representation or trust the notebook. <br />On GitHub, the HTML representation is unable to render, please try loading this page with nbviewer.org.</b></div><div class=\"sk-container\" hidden><div class=\"sk-item sk-dashed-wrapped\"><div class=\"sk-label-container\"><div class=\"sk-label sk-toggleable\"><input class=\"sk-toggleable__control sk-hidden--visually\" id=\"sk-estimator-id-1\" type=\"checkbox\" ><label for=\"sk-estimator-id-1\" class=\"sk-toggleable__label sk-toggleable__label-arrow\">GridSearchCV</label><div class=\"sk-toggleable__content\"><pre>GridSearchCV(estimator=XGBClassifier(base_score=None, booster=None,\n",
       "                                     callbacks=None, colsample_bylevel=None,\n",
       "                                     colsample_bynode=None,\n",
       "                                     colsample_bytree=None, device=None,\n",
       "                                     early_stopping_rounds=None,\n",
       "                                     enable_categorical=False, eval_metric=None,\n",
       "                                     feature_types=None, gamma=None,\n",
       "                                     grow_policy=None, importance_type=None,\n",
       "                                     interaction_constraints=None,\n",
       "                                     learning_rate=None, max_b...\n",
       "                                     max_delta_step=None, max_depth=None,\n",
       "                                     max_leaves=None, min_child_weight=None,\n",
       "                                     missing=nan, monotone_constraints=None,\n",
       "                                     multi_strategy=None, n_estimators=None,\n",
       "                                     n_jobs=None, num_parallel_tree=None,\n",
       "                                     random_state=None, ...),\n",
       "             param_grid={&#x27;learning_rate&#x27;: [0.01], &#x27;max_depth&#x27;: [3, 4, 5, 6],\n",
       "                         &#x27;n_estimators&#x27;: [100, 500, 1000], &#x27;nthread&#x27;: [4],\n",
       "                         &#x27;objective&#x27;: [&#x27;binary:logistic&#x27;], &#x27;seed&#x27;: [42]},\n",
       "             scoring=&#x27;roc_auc&#x27;, verbose=2)</pre></div></div></div><div class=\"sk-parallel\"><div class=\"sk-parallel-item\"><div class=\"sk-item\"><div class=\"sk-label-container\"><div class=\"sk-label sk-toggleable\"><input class=\"sk-toggleable__control sk-hidden--visually\" id=\"sk-estimator-id-2\" type=\"checkbox\" ><label for=\"sk-estimator-id-2\" class=\"sk-toggleable__label sk-toggleable__label-arrow\">estimator: XGBClassifier</label><div class=\"sk-toggleable__content\"><pre>XGBClassifier(base_score=None, booster=None, callbacks=None,\n",
       "              colsample_bylevel=None, colsample_bynode=None,\n",
       "              colsample_bytree=None, device=None, early_stopping_rounds=None,\n",
       "              enable_categorical=False, eval_metric=None, feature_types=None,\n",
       "              gamma=None, grow_policy=None, importance_type=None,\n",
       "              interaction_constraints=None, learning_rate=None, max_bin=None,\n",
       "              max_cat_threshold=None, max_cat_to_onehot=None,\n",
       "              max_delta_step=None, max_depth=None, max_leaves=None,\n",
       "              min_child_weight=None, missing=nan, monotone_constraints=None,\n",
       "              multi_strategy=None, n_estimators=None, n_jobs=None,\n",
       "              num_parallel_tree=None, random_state=None, ...)</pre></div></div></div><div class=\"sk-serial\"><div class=\"sk-item\"><div class=\"sk-estimator sk-toggleable\"><input class=\"sk-toggleable__control sk-hidden--visually\" id=\"sk-estimator-id-3\" type=\"checkbox\" ><label for=\"sk-estimator-id-3\" class=\"sk-toggleable__label sk-toggleable__label-arrow\">XGBClassifier</label><div class=\"sk-toggleable__content\"><pre>XGBClassifier(base_score=None, booster=None, callbacks=None,\n",
       "              colsample_bylevel=None, colsample_bynode=None,\n",
       "              colsample_bytree=None, device=None, early_stopping_rounds=None,\n",
       "              enable_categorical=False, eval_metric=None, feature_types=None,\n",
       "              gamma=None, grow_policy=None, importance_type=None,\n",
       "              interaction_constraints=None, learning_rate=None, max_bin=None,\n",
       "              max_cat_threshold=None, max_cat_to_onehot=None,\n",
       "              max_delta_step=None, max_depth=None, max_leaves=None,\n",
       "              min_child_weight=None, missing=nan, monotone_constraints=None,\n",
       "              multi_strategy=None, n_estimators=None, n_jobs=None,\n",
       "              num_parallel_tree=None, random_state=None, ...)</pre></div></div></div></div></div></div></div></div></div></div>"
      ],
      "text/plain": [
       "GridSearchCV(estimator=XGBClassifier(base_score=None, booster=None,\n",
       "                                     callbacks=None, colsample_bylevel=None,\n",
       "                                     colsample_bynode=None,\n",
       "                                     colsample_bytree=None, device=None,\n",
       "                                     early_stopping_rounds=None,\n",
       "                                     enable_categorical=False, eval_metric=None,\n",
       "                                     feature_types=None, gamma=None,\n",
       "                                     grow_policy=None, importance_type=None,\n",
       "                                     interaction_constraints=None,\n",
       "                                     learning_rate=None, max_b...\n",
       "                                     max_delta_step=None, max_depth=None,\n",
       "                                     max_leaves=None, min_child_weight=None,\n",
       "                                     missing=nan, monotone_constraints=None,\n",
       "                                     multi_strategy=None, n_estimators=None,\n",
       "                                     n_jobs=None, num_parallel_tree=None,\n",
       "                                     random_state=None, ...),\n",
       "             param_grid={'learning_rate': [0.01], 'max_depth': [3, 4, 5, 6],\n",
       "                         'n_estimators': [100, 500, 1000], 'nthread': [4],\n",
       "                         'objective': ['binary:logistic'], 'seed': [42]},\n",
       "             scoring='roc_auc', verbose=2)"
      ]
     },
     "execution_count": 10,
     "metadata": {},
     "output_type": "execute_result"
    }
   ],
   "source": [
    "parameters = {\n",
    "    'nthread': [4],\n",
    "    'objective': ['binary:logistic'],\n",
    "    'max_depth': [3, 4, 5, 6],\n",
    "    'learning_rate': [0.01],\n",
    "    'n_estimators': [100, 500, 1000],\n",
    "    'seed': [42]\n",
    "}\n",
    "\n",
    "classifier = XGBClassifier()\n",
    "classifier = GridSearchCV(classifier, parameters, scoring='roc_auc', verbose=2)\n",
    "classifier.fit(X_train, y_train)"
   ]
  },
  {
   "cell_type": "markdown",
   "id": "9152daa3",
   "metadata": {},
   "source": [
    "### *Evaluate the model*"
   ]
  },
  {
   "cell_type": "markdown",
   "id": "b2ffe65c",
   "metadata": {},
   "source": [
    "We do evaluate the accuracy of our expected-goals model by making predictions for the shots in our test set."
   ]
  },
  {
   "cell_type": "code",
   "execution_count": 11,
   "id": "efd59766",
   "metadata": {},
   "outputs": [],
   "source": [
    "y_pred = classifier.predict_proba(X_test)"
   ]
  },
  {
   "cell_type": "markdown",
   "id": "d15778c4",
   "metadata": {},
   "source": [
    "#### *Compute and Interpret the area under the curve: receiver operating characteristic (AUC-ROC)*\n",
    "\n"
   ]
  },
  {
   "cell_type": "code",
   "execution_count": 12,
   "id": "a0c1341a",
   "metadata": {},
   "outputs": [
    {
     "name": "stdout",
     "output_type": "stream",
     "text": [
      "The training set contains 114878 examples of which 12132 are positives.\n"
     ]
    }
   ],
   "source": [
    "y_total = y_train.count()\n",
    "y_positive = y_train.sum()\n",
    "\n",
    "print('The training set contains {} examples of which {} are positives.'.format(y_total, y_positive))"
   ]
  },
  {
   "cell_type": "code",
   "execution_count": 13,
   "id": "f26f8f5b",
   "metadata": {},
   "outputs": [
    {
     "name": "stdout",
     "output_type": "stream",
     "text": [
      "Our classifier obtains an AUC-ROC of 0.7795729461212839.\n"
     ]
    }
   ],
   "source": [
    "auc_roc = roc_auc_score(y_test, y_pred[:, 1])\n",
    "\n",
    "print('Our classifier obtains an AUC-ROC of {}.'.format(auc_roc))"
   ]
  },
  {
   "cell_type": "markdown",
   "id": "1c45b1ff",
   "metadata": {},
   "source": [
    "#### *Compute and interpret area under the curve: precision-recall (AUC-PR)*\n",
    "\n"
   ]
  },
  {
   "cell_type": "code",
   "execution_count": 14,
   "id": "25dccb03",
   "metadata": {},
   "outputs": [
    {
     "name": "stdout",
     "output_type": "stream",
     "text": [
      "The baseline performance for AUC-PR is 0.10560768815613085.\n"
     ]
    }
   ],
   "source": [
    "auc_pr_baseline = y_positive / y_total\n",
    "\n",
    "print('The baseline performance for AUC-PR is {}.'.format(auc_pr_baseline))"
   ]
  },
  {
   "cell_type": "code",
   "execution_count": 15,
   "id": "a7394455",
   "metadata": {},
   "outputs": [
    {
     "name": "stdout",
     "output_type": "stream",
     "text": [
      "Our classifier obtains an AUC-PR of 0.3581820681668889.\n"
     ]
    }
   ],
   "source": [
    "auc_pr = average_precision_score(y_test, y_pred[:, 1])\n",
    "\n",
    "print('Our classifier obtains an AUC-PR of {}.'.format(auc_pr))"
   ]
  },
  {
   "cell_type": "code",
   "execution_count": 16,
   "id": "1ed68879",
   "metadata": {},
   "outputs": [
    {
     "data": {
      "text/plain": [
       "<Axes: title={'center': 'Precision-Recall Curve'}, xlabel='Recall', ylabel='Precision'>"
      ]
     },
     "execution_count": 16,
     "metadata": {},
     "output_type": "execute_result"
    },
    {
     "data": {
      "image/png": "[encoded data removed]",
      "text/plain": [
       "<Figure size 640x480 with 1 Axes>"
      ]
     },
     "metadata": {},
     "output_type": "display_data"
    }
   ],
   "source": [
    "plot_precision_recall_curve(y_test, y_pred, curves='each_class')"
   ]
  },
  {
   "cell_type": "code",
   "execution_count": 17,
   "id": "a88c71a9",
   "metadata": {},
   "outputs": [
    {
     "data": {
      "text/plain": [
       "<Axes: title={'center': 'ROC Curves'}, xlabel='False Positive Rate', ylabel='True Positive Rate'>"
      ]
     },
     "execution_count": 17,
     "metadata": {},
     "output_type": "execute_result"
    },
    {
     "data": {
      "image/png": "[encoded data removed]",
      "text/plain": [
       "<Figure size 640x480 with 1 Axes>"
      ]
     },
     "metadata": {},
     "output_type": "display_data"
    }
   ],
   "source": [
    "plot_roc_curve(y_test, y_pred, curves='each_class')"
   ]
  },
  {
   "cell_type": "markdown",
   "id": "06e3304a",
   "metadata": {},
   "source": [
    "### *Interpret the calibration curve*"
   ]
  },
  {
   "cell_type": "code",
   "execution_count": 18,
   "id": "0e11408f",
   "metadata": {},
   "outputs": [
    {
     "data": {
      "text/plain": [
       "<Axes: title={'center': 'Calibration plots (Reliability Curves)'}, xlabel='Mean predicted value', ylabel='Fraction of positives'>"
      ]
     },
     "execution_count": 18,
     "metadata": {},
     "output_type": "execute_result"
    },
    {
     "data": {
      "image/png": "[encoded data removed]",
      "text/plain": [
       "<Figure size 640x480 with 1 Axes>"
      ]
     },
     "metadata": {},
     "output_type": "display_data"
    }
   ],
   "source": [
    "plot_calibration_curve(y_test, [y_pred])"
   ]
  }
 ],
 "metadata": {
  "kernelspec": {
   "display_name": "Python 3 (ipykernel)",
   "language": "python",
   "name": "python3"
  },
  "language_info": {
   "codemirror_mode": {
    "name": "ipython",
    "version": 3
   },
   "file_extension": ".py",
   "mimetype": "text/x-python",
   "name": "python",
   "nbconvert_exporter": "python",
   "pygments_lexer": "ipython3",
   "version": "3.11.4"
  }
 },
 "nbformat": 4,
 "nbformat_minor": 5
}
