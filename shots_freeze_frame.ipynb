{
 "cells": [
  {
   "cell_type": "markdown",
   "id": "b791f187",
   "metadata": {},
   "source": [
    "## *Analyzing StatsBomb Shot Freeze Frames and Constructing an xG Model*\n",
    "    - Retrieve details regarding shots and their attributes.\n",
    "    - Investigate the use and information extracted from shot freeze frames.\n",
    "    - Extract new features.\n",
    "    - Develop a predictive model for expected goals.\n",
    "    - Evaluate the performance and accuracy of the created model."
   ]
  },
  {
   "cell_type": "code",
   "execution_count": 10,
   "id": "2aea4147",
   "metadata": {},
   "outputs": [],
   "source": [
    "import os\n",
    "import json\n",
    "import pandas as pd\n",
    "import math \n",
    "import matplotlib.pyplot as plt \n",
    "from pandas.io.json import json_normalize"
   ]
  },
  {
   "cell_type": "code",
   "execution_count": 25,
   "id": "bd6045f1",
   "metadata": {},
   "outputs": [
    {
     "data": {
      "text/plain": [
       "[{'location': [115.0, 42.0],\n",
       "  'player': {'id': 5025, 'name': 'Aubrey Renee Kingsbury'},\n",
       "  'position': {'id': 1, 'name': 'Goalkeeper'},\n",
       "  'teammate': False},\n",
       " {'location': [112.0, 49.0],\n",
       "  'player': {'id': 4962, 'name': 'Caprice Dydasco'},\n",
       "  'position': {'id': 6, 'name': 'Left Back'},\n",
       "  'teammate': False},\n",
       " {'location': [110.0, 36.0],\n",
       "  'player': {'id': 5034, 'name': 'Jessica McDonald'},\n",
       "  'position': {'id': 24, 'name': 'Left Center Forward'},\n",
       "  'teammate': True},\n",
       " {'location': [112.0, 41.0],\n",
       "  'player': {'id': 4950, 'name': 'Whitney Church'},\n",
       "  'position': {'id': 5, 'name': 'Left Center Back'},\n",
       "  'teammate': False},\n",
       " {'location': [113.0, 37.0],\n",
       "  'player': {'id': 4951, 'name': 'Quinn Quinn'},\n",
       "  'position': {'id': 3, 'name': 'Right Center Back'},\n",
       "  'teammate': False}]"
      ]
     },
     "execution_count": 25,
     "metadata": {},
     "output_type": "execute_result"
    }
   ],
   "source": [
    "match_events_path= 'data/events/7451.json'\n",
    "with open(match_events_path, 'r') as file:\n",
    "    data = json.load(file)\n",
    "df = pd.json_normalize(data)\n",
    "\n",
    "shot_freeze_frame = df.loc[df['shot.freeze_frame'].notnull(), 'shot.freeze_frame'].iloc[0]\n",
    "shot_freeze_frame"
   ]
  },
  {
   "cell_type": "code",
   "execution_count": 2,
   "id": "ffcd11bc",
   "metadata": {},
   "outputs": [],
   "source": [
    "def process_json_file(file_path, shots_list):\n",
    "    with open(file_path, 'r') as file:\n",
    "        data = json.load(file)\n",
    "        for item in data:\n",
    "            shot = item.get('shot')\n",
    "            location = item.get('location')\n",
    "            if shot is not None:\n",
    "                shots_list.append((shot, location))"
   ]
  },
  {
   "cell_type": "code",
   "execution_count": 3,
   "id": "42fb515f",
   "metadata": {},
   "outputs": [],
   "source": [
    "def process_all_json_files_in_directory(directory):\n",
    "    shots_list = []\n",
    "    \n",
    "    for filename in os.listdir(directory):\n",
    "        if filename.endswith('.json'):\n",
    "            file_path = os.path.join(directory, filename)\n",
    "            process_json_file(file_path, shots_list)\n",
    "    \n",
    "    return shots_list"
   ]
  },
  {
   "cell_type": "code",
   "execution_count": 4,
   "id": "97406bf0",
   "metadata": {},
   "outputs": [],
   "source": [
    "json_directory = 'data/events'\n",
    "shots = process_all_json_files_in_directory(json_directory)\n",
    "# Create a DataFrame out of proceesed data\n",
    "df = pd.DataFrame(shots, columns=['Shot Value', 'Location'])\n",
    "df"
   ]
  },
  {
   "cell_type": "code",
   "execution_count": 5,
   "id": "c2aea00a",
   "metadata": {},
   "outputs": [
    {
     "data": {
      "text/html": [
       "<div>\n",
       "<style scoped>\n",
       "    .dataframe tbody tr th:only-of-type {\n",
       "        vertical-align: middle;\n",
       "    }\n",
       "\n",
       "    .dataframe tbody tr th {\n",
       "        vertical-align: top;\n",
       "    }\n",
       "\n",
       "    .dataframe thead th {\n",
       "        text-align: right;\n",
       "    }\n",
       "</style>\n",
       "<table border=\"1\" class=\"dataframe\">\n",
       "  <thead>\n",
       "    <tr style=\"text-align: right;\">\n",
       "      <th></th>\n",
       "      <th>Shot Value</th>\n",
       "      <th>Location</th>\n",
       "    </tr>\n",
       "  </thead>\n",
       "  <tbody>\n",
       "    <tr>\n",
       "      <th>0</th>\n",
       "      <td>{'statsbomb_xg': 0.06773658, 'end_location': [...</td>\n",
       "      <td>[107.5, 27.2]</td>\n",
       "    </tr>\n",
       "    <tr>\n",
       "      <th>1</th>\n",
       "      <td>{'statsbomb_xg': 0.017595131, 'end_location': ...</td>\n",
       "      <td>[88.3, 50.2]</td>\n",
       "    </tr>\n",
       "    <tr>\n",
       "      <th>2</th>\n",
       "      <td>{'statsbomb_xg': 0.7835, 'end_location': [120....</td>\n",
       "      <td>[108.0, 40.0]</td>\n",
       "    </tr>\n",
       "    <tr>\n",
       "      <th>3</th>\n",
       "      <td>{'one_on_one': True, 'statsbomb_xg': 0.4228571...</td>\n",
       "      <td>[107.3, 36.1]</td>\n",
       "    </tr>\n",
       "    <tr>\n",
       "      <th>4</th>\n",
       "      <td>{'statsbomb_xg': 0.077898495, 'end_location': ...</td>\n",
       "      <td>[105.3, 29.4]</td>\n",
       "    </tr>\n",
       "    <tr>\n",
       "      <th>...</th>\n",
       "      <td>...</td>\n",
       "      <td>...</td>\n",
       "    </tr>\n",
       "    <tr>\n",
       "      <th>81112</th>\n",
       "      <td>{'statsbomb_xg': 0.13645959, 'end_location': [...</td>\n",
       "      <td>[104.0, 36.1]</td>\n",
       "    </tr>\n",
       "    <tr>\n",
       "      <th>81113</th>\n",
       "      <td>{'statsbomb_xg': 0.2980615, 'end_location': [1...</td>\n",
       "      <td>[113.5, 43.0]</td>\n",
       "    </tr>\n",
       "    <tr>\n",
       "      <th>81114</th>\n",
       "      <td>{'statsbomb_xg': 0.04339284, 'end_location': [...</td>\n",
       "      <td>[103.5, 32.6]</td>\n",
       "    </tr>\n",
       "    <tr>\n",
       "      <th>81115</th>\n",
       "      <td>{'statsbomb_xg': 0.15713295, 'end_location': [...</td>\n",
       "      <td>[109.9, 29.9]</td>\n",
       "    </tr>\n",
       "    <tr>\n",
       "      <th>81116</th>\n",
       "      <td>{'statsbomb_xg': 0.06649588, 'end_location': [...</td>\n",
       "      <td>[107.3, 42.6]</td>\n",
       "    </tr>\n",
       "  </tbody>\n",
       "</table>\n",
       "<p>81117 rows × 2 columns</p>\n",
       "</div>"
      ],
      "text/plain": [
       "                                              Shot Value       Location\n",
       "0      {'statsbomb_xg': 0.06773658, 'end_location': [...  [107.5, 27.2]\n",
       "1      {'statsbomb_xg': 0.017595131, 'end_location': ...   [88.3, 50.2]\n",
       "2      {'statsbomb_xg': 0.7835, 'end_location': [120....  [108.0, 40.0]\n",
       "3      {'one_on_one': True, 'statsbomb_xg': 0.4228571...  [107.3, 36.1]\n",
       "4      {'statsbomb_xg': 0.077898495, 'end_location': ...  [105.3, 29.4]\n",
       "...                                                  ...            ...\n",
       "81112  {'statsbomb_xg': 0.13645959, 'end_location': [...  [104.0, 36.1]\n",
       "81113  {'statsbomb_xg': 0.2980615, 'end_location': [1...  [113.5, 43.0]\n",
       "81114  {'statsbomb_xg': 0.04339284, 'end_location': [...  [103.5, 32.6]\n",
       "81115  {'statsbomb_xg': 0.15713295, 'end_location': [...  [109.9, 29.9]\n",
       "81116  {'statsbomb_xg': 0.06649588, 'end_location': [...  [107.3, 42.6]\n",
       "\n",
       "[81117 rows x 2 columns]"
      ]
     },
     "execution_count": 5,
     "metadata": {},
     "output_type": "execute_result"
    }
   ],
   "source": [
    "df"
   ]
  },
  {
   "cell_type": "code",
   "execution_count": 11,
   "id": "8bf4469e",
   "metadata": {},
   "outputs": [
    {
     "data": {
      "text/plain": [
       "[{'location': [100.2, 26.5],\n",
       "  'player': {'id': 26198, 'name': 'Guillermo Luis Franco Farquarson'},\n",
       "  'position': {'id': 23, 'name': 'Center Forward'},\n",
       "  'teammate': True},\n",
       " {'location': [104.3, 40.7],\n",
       "  'player': {'id': 19312, 'name': 'Robert Pirès'},\n",
       "  'position': {'id': 19, 'name': 'Center Attacking Midfield'},\n",
       "  'teammate': True},\n",
       " {'location': [106.5, 42.1],\n",
       "  'player': {'id': 20177, 'name': 'Eric-Sylvain Bilal Abidal'},\n",
       "  'position': {'id': 6, 'name': 'Left Back'},\n",
       "  'teammate': False},\n",
       " {'location': [109.3, 30.5],\n",
       "  'player': {'id': 25919, 'name': 'Gabriel Alejandro Milito'},\n",
       "  'position': {'id': 5, 'name': 'Left Center Back'},\n",
       "  'teammate': False},\n",
       " {'location': [116.1, 34.9],\n",
       "  'player': {'id': 20176, 'name': 'Víctor Valdés Arribas'},\n",
       "  'position': {'id': 1, 'name': 'Goalkeeper'},\n",
       "  'teammate': False},\n",
       " {'location': [92.3, 35.2],\n",
       "  'player': {'id': 19757, 'name': 'Anderson Luís de Souza'},\n",
       "  'position': {'id': 15, 'name': 'Left Center Midfield'},\n",
       "  'teammate': False},\n",
       " {'location': [105.9, 28.3],\n",
       "  'player': {'id': 20125, 'name': 'Carles Puyol i Saforcada'},\n",
       "  'position': {'id': 3, 'name': 'Right Center Back'},\n",
       "  'teammate': False},\n",
       " {'location': [106.1, 24.1],\n",
       "  'player': {'id': 25873, 'name': 'Oleguer Presas Renom'},\n",
       "  'position': {'id': 2, 'name': 'Right Back'},\n",
       "  'teammate': False},\n",
       " {'location': [103.4, 32.6],\n",
       "  'player': {'id': 5216, 'name': 'Andrés Iniesta Luján'},\n",
       "  'position': {'id': 13, 'name': 'Right Center Midfield'},\n",
       "  'teammate': False},\n",
       " {'location': [100.2, 21.4],\n",
       "  'player': {'id': 20131, 'name': 'Xavier Hernández Creus'},\n",
       "  'position': {'id': 10, 'name': 'Center Defensive Midfield'},\n",
       "  'teammate': False}]"
      ]
     },
     "execution_count": 11,
     "metadata": {},
     "output_type": "execute_result"
    }
   ],
   "source": [
    "freeze_frame= df['Shot Value'][0]['freeze_frame']\n",
    "freeze_frame"
   ]
  },
  {
   "cell_type": "code",
   "execution_count": null,
   "id": "d0bc83a5",
   "metadata": {},
   "outputs": [],
   "source": []
  }
 ],
 "metadata": {
  "kernelspec": {
   "display_name": "Python 3 (ipykernel)",
   "language": "python",
   "name": "python3"
  },
  "language_info": {
   "codemirror_mode": {
    "name": "ipython",
    "version": 3
   },
   "file_extension": ".py",
   "mimetype": "text/x-python",
   "name": "python",
   "nbconvert_exporter": "python",
   "pygments_lexer": "ipython3",
   "version": "3.11.4"
  }
 },
 "nbformat": 4,
 "nbformat_minor": 5
}
