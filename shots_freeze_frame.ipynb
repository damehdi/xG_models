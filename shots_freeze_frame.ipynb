{
 "cells": [
  {
   "cell_type": "markdown",
   "id": "b791f187",
   "metadata": {},
   "source": [
    "## *Analyzing StatsBomb Shot Freeze Frames and Constructing an xG Model*\n",
    "    - Retrieve details regarding shots and their attributes.\n",
    "    - Investigate the use and information extracted from shot freeze frames.\n",
    "    - Extract new features.\n",
    "    - Develop a predictive model for expected goals.\n",
    "    - Evaluate the performance and accuracy of the created model."
   ]
  },
  {
   "cell_type": "code",
   "execution_count": 1,
   "id": "2aea4147",
   "metadata": {},
   "outputs": [],
   "source": [
    "import os\n",
    "import json\n",
    "import math \n",
    "import numpy as np\n",
    "import pandas as pd\n",
    "import geopandas as gpd \n",
    "\n",
    "from mplsoccer import Pitch\n",
    "import matplotlib.pyplot as plt \n",
    "\n",
    "from pyspark.sql import SparkSession\n",
    "from pyspark.sql.functions import col, explode\n",
    "from shapely.geometry import MultiPoint, Polygon, Point \n",
    "\n",
    "import warnings\n",
    "warnings.filterwarnings(\"ignore\")"
   ]
  },
  {
   "cell_type": "markdown",
   "id": "e21e4d59",
   "metadata": {},
   "source": [
    "## *Data Pre-processing*"
   ]
  },
  {
   "cell_type": "code",
   "execution_count": null,
   "id": "fc7733c6",
   "metadata": {},
   "outputs": [],
   "source": []
  },
  {
   "cell_type": "code",
   "execution_count": null,
   "id": "ffcd11bc",
   "metadata": {},
   "outputs": [],
   "source": [
    "def process_json_file(file_path, shots_list):\n",
    "    with open(file_path, 'r') as file:\n",
    "        data = json.load(file)\n",
    "        for item in data:\n",
    "            shot = item.get('shot')\n",
    "            location = item.get('location')\n",
    "            id_ = item.get('id')\n",
    "            if shot and 'freeze_frame' in shot:\n",
    "                shots_list.append((id_, shot['freeze_frame'], location ))\n"
   ]
  },
  {
   "cell_type": "code",
   "execution_count": null,
   "id": "42fb515f",
   "metadata": {},
   "outputs": [],
   "source": [
    "def process_all_json_files_in_directory(directory):\n",
    "    shots_list = []\n",
    "    \n",
    "    for filename in os.listdir(directory):\n",
    "        if filename.endswith('.json'):\n",
    "            file_path = os.path.join(directory, filename)\n",
    "            process_json_file(file_path, shots_list)\n",
    "    \n",
    "    return shots_list"
   ]
  },
  {
   "cell_type": "code",
   "execution_count": null,
   "id": "97406bf0",
   "metadata": {},
   "outputs": [],
   "source": [
    "json_directory = 'data/events'\n",
    "shots = process_all_json_files_in_directory(json_directory)\n",
    "shots_df = pd.DataFrame(shots, columns=['id', 'freeze_frame', 'location'])\n",
    "shots_df[['X','Y']] = shots_df['location'].apply(lambda x: pd.Series(x, index=['X', 'Y']))\n",
    "shots_df.to_parquet('data/shots/statsbomb-shots.parquet')"
   ]
  },
  {
   "cell_type": "code",
   "execution_count": null,
   "id": "bd6045f1",
   "metadata": {},
   "outputs": [],
   "source": [
    "#a shot freeze frame example\n",
    "shot_freeze_frames = shots_df['freeze_frame']\n",
    "shot_freeze_frames.iloc[5]"
   ]
  },
  {
   "cell_type": "code",
   "execution_count": null,
   "id": "1eb2cba0",
   "metadata": {},
   "outputs": [],
   "source": [
    "! pip install pyspark "
   ]
  },
  {
   "cell_type": "code",
   "execution_count": 2,
   "id": "b84dc48a",
   "metadata": {},
   "outputs": [
    {
     "name": "stderr",
     "output_type": "stream",
     "text": [
      "23/10/08 02:07:40 WARN Utils: Your hostname, dahbi-Latitude-7280 resolves to a loopback address: 127.0.1.1; using 192.168.0.198 instead (on interface wlp2s0)\n",
      "23/10/08 02:07:40 WARN Utils: Set SPARK_LOCAL_IP if you need to bind to another address\n",
      "Setting default log level to \"WARN\".\n",
      "To adjust logging level use sc.setLogLevel(newLevel). For SparkR, use setLogLevel(newLevel).\n",
      "23/10/08 02:07:41 WARN NativeCodeLoader: Unable to load native-hadoop library for your platform... using builtin-java classes where applicable\n",
      "                                                                                \r"
     ]
    }
   ],
   "source": [
    "spark = SparkSession.builder \\\n",
    "    .appName(\"Shot Analysis\") \\\n",
    "    .getOrCreate()\n",
    "\n",
    "# Read the Parquet file into a PySpark DataFrame\n",
    "shots_df = spark.read.parquet('data/shots/statsbomb-shots.parquet')\n",
    "\n",
    "# Transform the DataFrame to extract required information\n",
    "df_shot_frame = (\n",
    "    shots_df.select(\"id\", explode(\"freeze_frame\").alias(\"frame\"))\n",
    "            .select(\"id\", \n",
    "                    col(\"frame.location\")[0].alias(\"x\"), \n",
    "                    col(\"frame.location\")[1].alias(\"y\"), \n",
    "                    col(\"frame.position.name\").alias(\"position\"), \n",
    "                    col(\"frame.teammate\").alias(\"teammate\"))\n",
    ")\n",
    "\n",
    "statsbomb_pitch = Pitch()\n",
    "num_rows = df_shot_frame.count()\n",
    "vertices = np.zeros((num_rows, 3, 2))\n",
    "vertices[:, 1:, :] = statsbomb_pitch.goal_right\n",
    "\n",
    "# Convert vertices to GeoSeries\n",
    "vertices_gdf = gpd.GeoSeries([Polygon(vert) for vert in vertices])\n",
    "vertices_gdf[\"id\"] = df_shot_frame.select(\"id\").collect()"
   ]
  },
  {
   "cell_type": "code",
   "execution_count": 3,
   "id": "29ad570f",
   "metadata": {},
   "outputs": [
    {
     "name": "stderr",
     "output_type": "stream",
     "text": [
      "                                                                                \r"
     ]
    }
   ],
   "source": [
    "df_shot_frame_pd = df_shot_frame.toPandas()\n",
    "\n",
    "# Convert the pandas DataFrame to a GeoDataFrame\n",
    "df_shot_frame_gdf = gpd.GeoDataFrame(df_shot_frame_pd, \n",
    "                                      geometry=gpd.points_from_xy(df_shot_frame_pd.x, df_shot_frame_pd.y))"
   ]
  },
  {
   "cell_type": "code",
   "execution_count": 4,
   "id": "f20395b7",
   "metadata": {},
   "outputs": [],
   "source": [
    "flat_vertices = [Polygon(vert) for vert in vertices]\n",
    "geo_series = gpd.GeoSeries(flat_vertices)\n",
    "\n",
    "# Create a GeoDataFrame/\n",
    "vertices_gdf = gpd.GeoDataFrame(geometry=geo_series)"
   ]
  },
  {
   "cell_type": "code",
   "execution_count": null,
   "id": "d79e3789",
   "metadata": {},
   "outputs": [],
   "source": [
    "player_positions = gpd.sjoin(df_shot_frame_gdf, vertices_gdf, how=\"inner\", op=\"intersects\")"
   ]
  },
  {
   "cell_type": "code",
   "execution_count": null,
   "id": "c00836de",
   "metadata": {},
   "outputs": [],
   "source": [
    "events_id= list(shots_df.id)\n",
    "shot_frames= list(shots_df['freeze_frame'])\n",
    "\n",
    "rows=[]\n",
    "for event_id, frame in zip(events_id, shot_frames):\n",
    "    for i in frame:\n",
    "        rows.append((event_id, i['location'][0], i['location'][1], i['position']['name'],i['teammate']))\n",
    "df_shot_frame= pd.DataFrame(data= rows, columns=[\"id\", \"x\", \"y\", \"position\", \"teammate\"])\n",
    "statsbomb_pitch = Pitch()\n",
    "vertices = np.zeros((len(df_shot_frame), 3, 2))\n",
    "vertices[:, 1:, :] = statsbomb_pitch.goal_right\n",
    "vertices[:, 0, :] = df_shot_frame[['x','y']].values\n",
    "vertices = gpd.GeoSeries([Polygon(vert) for vert in vertices])\n",
    "vertices = gpd.GeoDataFrame({'id': df_shot_frame['id'], 'shot_polygon': gpd.GeoSeries(vertices)})\n",
    "\n",
    "player_positions = gpd.GeoSeries.from_xy(df_shot_frame['x'], df_shot_frame['y'])\n",
    "player_positions = gpd.GeoDataFrame({'id': df_shot_frame['id'], 'position': player_positions,\n",
    "                                    'Tactical position':df_shot_frame[\"position\"], 'teammate':df_shot_frame[\"teammate\"],\n",
    "                                     'X_':df_shot_frame[\"x\"], 'Y_':df_shot_frame[\"y\"]\n",
    "                                    })\n",
    "\n",
    "player_positions = gpd.GeoDataFrame(player_positions.merge(vertices, on='id'))\n",
    "\n",
    "#detect wether players intersects with the shot angle\n",
    "player_positions['does player interfer with the goal angle?'] = player_positions['position'].intersects(player_positions['shot_polygon'])\n",
    "#drop players who doesn't interefer with the shot angle\n",
    "player_positions= player_positions[player_positions['does player interfer with the goal angle?']]\n",
    "player_positions"
   ]
  },
  {
   "cell_type": "code",
   "execution_count": null,
   "id": "ca9836fb",
   "metadata": {
    "scrolled": false
   },
   "outputs": [],
   "source": [
    "xb, yb = (120, 44)\n",
    "xc, yc = (120, 36)\n",
    "LP = 120\n",
    "\n",
    "def calculate_shot_angle(x, y):\n",
    "    numerator = 2 * (x - LP) ** 2 + (y - yb) ** 2 + (y - yc) ** 2 - (yb - yc) ** 2\n",
    "    denominator = 2 * math.sqrt(((x - LP) ** 2 + (y - yb) ** 2) * ((x - LP) ** 2 + (y - yc) ** 2))\n",
    "    shot_angle_radians = math.acos(numerator / denominator)\n",
    "    angle = math.degrees(shot_angle_radians)\n",
    "    return angle\n",
    "\n",
    "def calculate_angle(xy, xi_yi_Li):\n",
    "    x, y = xy\n",
    "    xi, yi, Li = xi_yi_Li\n",
    "    numerator = (x - xi) ** 2 + (y - yi) ** 2 - (Li / 2) ** 2\n",
    "    denominator1 = (x - xi) ** 2 + (y - yi - (Li / 2)) ** 2\n",
    "    denominator2 = (x - xi) ** 2 + (y - yi + (Li / 2)) ** 2\n",
    "    try:\n",
    "        angle_radians = math.acos(numerator / math.sqrt(denominator1 * denominator2))\n",
    "        anlge = math.degrees(angle_radians)\n",
    "    except ValueError:\n",
    "        anlge = 0.0\n",
    "    \n",
    "    return anlge\n",
    "\n",
    "def determine_L(row):\n",
    "    if row['teammate']:\n",
    "        return 0.4\n",
    "    elif row['Tactical position'] == 'Goalkeeper':\n",
    "        return 1.4\n",
    "    else:\n",
    "        return 0.5"
   ]
  },
  {
   "cell_type": "code",
   "execution_count": null,
   "id": "74120280",
   "metadata": {
    "scrolled": false
   },
   "outputs": [],
   "source": [
    "#create a column for the width of player based on his position and wheter he's a teammate of the shooter or not\n",
    "player_positions['L'] = player_positions.apply(determine_L, axis=1)\n",
    "\n",
    "#add as much potential features as possible \n",
    "player_positions = gpd.GeoDataFrame(player_positions.merge(shots_df, on='id'))"
   ]
  },
  {
   "cell_type": "code",
   "execution_count": null,
   "id": "6f30dd96",
   "metadata": {},
   "outputs": [],
   "source": [
    "def calculate_angle_for_row(row):\n",
    "    xy = (row['X'], row['Y'])\n",
    "    xi_yi_Li = (row['X_'], row['Y_'], row['L'])\n",
    "    return calculate_angle(xy, xi_yi_Li)\n",
    "\n",
    "#calculate the angle of each player\n",
    "player_positions['angle'] = player_positions.apply(calculate_angle_for_row, axis=1)"
   ]
  },
  {
   "cell_type": "code",
   "execution_count": null,
   "id": "5421dac7",
   "metadata": {},
   "outputs": [],
   "source": [
    "columns_to_drop= ['position', 'Tactical position', 'teammate', 'shot_polygon', \n",
    "                  'does player interfer with the goal angle?', 'L', 'location' , 'X_' ,'Y_']\n",
    "player_positions.drop(columns= columns_to_drop, inplace= True)"
   ]
  },
  {
   "cell_type": "code",
   "execution_count": null,
   "id": "11002180",
   "metadata": {},
   "outputs": [],
   "source": [
    "grouped_df = player_positions.groupby('id').agg({\n",
    "    'freeze_frame': 'first',\n",
    "    'X': 'first',  \n",
    "    'Y': 'first',  \n",
    "    'angle': 'sum'\n",
    "}).reset_index()"
   ]
  }
 ],
 "metadata": {
  "kernelspec": {
   "display_name": "Python 3 (ipykernel)",
   "language": "python",
   "name": "python3"
  },
  "language_info": {
   "codemirror_mode": {
    "name": "ipython",
    "version": 3
   },
   "file_extension": ".py",
   "mimetype": "text/x-python",
   "name": "python",
   "nbconvert_exporter": "python",
   "pygments_lexer": "ipython3",
   "version": "3.11.4"
  }
 },
 "nbformat": 4,
 "nbformat_minor": 5
}
