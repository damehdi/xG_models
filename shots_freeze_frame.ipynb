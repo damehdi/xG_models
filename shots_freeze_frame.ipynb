{
 "cells": [
  {
   "cell_type": "markdown",
   "id": "b791f187",
   "metadata": {},
   "source": [
    "## *Analyzing StatsBomb Shot Freeze Frames and Constructing an xG Model*\n",
    "    - Retrieve details regarding shots and their attributes.\n",
    "    - Investigate the use and information extracted from shot freeze frames.\n",
    "    - Extract new features.\n",
    "    - Develop a predictive model for expected goals.\n",
    "    - Evaluate the performance and accuracy of the created model."
   ]
  },
  {
   "cell_type": "code",
   "execution_count": 10,
   "id": "2aea4147",
   "metadata": {},
   "outputs": [],
   "source": [
    "import os\n",
    "import json\n",
    "import pandas as pd\n",
    "import numpy as np\n",
    "import math \n",
    "import matplotlib.pyplot as plt \n",
    "from mplsoccer import Pitch\n",
    "import geopandas as gpd \n",
    "from shapely.geometry import MultiPoint, Polygon, Point "
   ]
  },
  {
   "cell_type": "code",
   "execution_count": 11,
   "id": "bd6045f1",
   "metadata": {},
   "outputs": [
    {
     "name": "stderr",
     "output_type": "stream",
     "text": [
      "/tmp/ipykernel_5088/533004324.py:8: SettingWithCopyWarning: \n",
      "A value is trying to be set on a copy of a slice from a DataFrame.\n",
      "Try using .loc[row_indexer,col_indexer] = value instead\n",
      "\n",
      "See the caveats in the documentation: https://pandas.pydata.org/pandas-docs/stable/user_guide/indexing.html#returning-a-view-versus-a-copy\n",
      "  shots_df[['X','Y']] = shots_df['location'].apply(lambda x: pd.Series(x, index=['X', 'Y']))\n",
      "/tmp/ipykernel_5088/533004324.py:8: SettingWithCopyWarning: \n",
      "A value is trying to be set on a copy of a slice from a DataFrame.\n",
      "Try using .loc[row_indexer,col_indexer] = value instead\n",
      "\n",
      "See the caveats in the documentation: https://pandas.pydata.org/pandas-docs/stable/user_guide/indexing.html#returning-a-view-versus-a-copy\n",
      "  shots_df[['X','Y']] = shots_df['location'].apply(lambda x: pd.Series(x, index=['X', 'Y']))\n"
     ]
    },
    {
     "data": {
      "text/plain": [
       "[{'location': [102.0, 60.0],\n",
       "  'player': {'id': 5034, 'name': 'Jessica McDonald'},\n",
       "  'position': {'id': 24, 'name': 'Left Center Forward'},\n",
       "  'teammate': True},\n",
       " {'location': [118.0, 38.0],\n",
       "  'player': {'id': 5025, 'name': 'Aubrey Renee Kingsbury'},\n",
       "  'position': {'id': 1, 'name': 'Goalkeeper'},\n",
       "  'teammate': False},\n",
       " {'location': [104.0, 49.0],\n",
       "  'player': {'id': 5088, 'name': 'Crystal Alyssia Dunn Soubrier'},\n",
       "  'position': {'id': 22, 'name': 'Right Center Forward'},\n",
       "  'teammate': True},\n",
       " {'location': [102.0, 53.0],\n",
       "  'player': {'id': 4962, 'name': 'Caprice Dydasco'},\n",
       "  'position': {'id': 6, 'name': 'Left Back'},\n",
       "  'teammate': False},\n",
       " {'location': [102.0, 44.0],\n",
       "  'player': {'id': 4950, 'name': 'Whitney Church'},\n",
       "  'position': {'id': 5, 'name': 'Left Center Back'},\n",
       "  'teammate': False},\n",
       " {'location': [99.0, 44.0],\n",
       "  'player': {'id': 5029, 'name': 'Tori Huster'},\n",
       "  'position': {'id': 10, 'name': 'Center Defensive Midfield'},\n",
       "  'teammate': False},\n",
       " {'location': [102.0, 37.0],\n",
       "  'player': {'id': 4941, 'name': 'Taylor Smith'},\n",
       "  'position': {'id': 2, 'name': 'Right Back'},\n",
       "  'teammate': False},\n",
       " {'location': [102.0, 40.0],\n",
       "  'player': {'id': 4951, 'name': 'Quinn Quinn'},\n",
       "  'position': {'id': 3, 'name': 'Right Center Back'},\n",
       "  'teammate': False},\n",
       " {'location': [94.0, 56.0],\n",
       "  'player': {'id': 4940, 'name': 'Andi Sullivan'},\n",
       "  'position': {'id': 15, 'name': 'Left Center Midfield'},\n",
       "  'teammate': False}]"
      ]
     },
     "execution_count": 11,
     "metadata": {},
     "output_type": "execute_result"
    }
   ],
   "source": [
    "match_events_path= 'data/events/7451.json'\n",
    "with open(match_events_path, 'r') as file:\n",
    "    data = json.load(file)\n",
    "df = pd.json_normalize(data)\n",
    "\n",
    "# Keep shots rows \n",
    "shots_df= df.loc[df['shot.freeze_frame'].notnull()]\n",
    "shots_df[['X','Y']] = shots_df['location'].apply(lambda x: pd.Series(x, index=['X', 'Y']))\n",
    "\n",
    "# An example\n",
    "shot_freeze_frames = shots_df['shot.freeze_frame']\n",
    "shot_freeze_frames.iloc[5]"
   ]
  },
  {
   "cell_type": "code",
   "execution_count": 17,
   "id": "c00836de",
   "metadata": {},
   "outputs": [],
   "source": [
    "events_id= list(shots_df.id)\n",
    "shot_frames= list(shots_df['shot.freeze_frame'])\n",
    "rows=[]\n",
    "for event_id, frame in zip(events_id, shot_frames):\n",
    "    for i in frame:\n",
    "        rows.append((event_id, i['location'][0], i['location'][1], i['position']['name'],i['teammate']))\n",
    "df_shot_frame= pd.DataFrame(data= rows, columns=[\"id\", \"x\", \"y\", \"position\", \"teammate\"])\n",
    "        \n",
    "statsbomb_pitch = Pitch()\n",
    "vertices = np.zeros((len(df_shot_frame), 3, 2))\n",
    "vertices[:, 1:, :] = statsbomb_pitch.goal_right\n",
    "vertices[:, 0, :] = df_shot_frame[['x','y']].values\n",
    "vertices = gpd.GeoSeries([Polygon(vert) for vert in vertices])\n",
    "vertices = gpd.GeoDataFrame({'id': df_shot_frame['id'], 'shot_polygon': gpd.GeoSeries(vertices)})\n",
    "\n",
    "player_positions = gpd.GeoSeries.from_xy(df_shot_frame['x'], df_shot_frame['y'])\n",
    "player_positions = gpd.GeoDataFrame({'id': df_shot_frame['id'], 'position': player_positions,\n",
    "                                    'Tactical position':df_shot_frame[\"position\"], 'teammate':df_shot_frame[\"teammate\"]})\n",
    "\n",
    "player_positions = gpd.GeoDataFrame(player_positions.merge(vertices, on='id'))\n",
    "\n",
    "# add a mask for whether the player intersects with the goal angle\n",
    "player_positions['does player interfer with the goal angle'] = player_positions['position'].intersects(player_positions['shot_polygon'])"
   ]
  },
  {
   "cell_type": "code",
   "execution_count": 23,
   "id": "95f7b8f9",
   "metadata": {},
   "outputs": [
    {
     "data": {
      "text/html": [
       "<div>\n",
       "<style scoped>\n",
       "    .dataframe tbody tr th:only-of-type {\n",
       "        vertical-align: middle;\n",
       "    }\n",
       "\n",
       "    .dataframe tbody tr th {\n",
       "        vertical-align: top;\n",
       "    }\n",
       "\n",
       "    .dataframe thead th {\n",
       "        text-align: right;\n",
       "    }\n",
       "</style>\n",
       "<table border=\"1\" class=\"dataframe\">\n",
       "  <thead>\n",
       "    <tr style=\"text-align: right;\">\n",
       "      <th></th>\n",
       "      <th>id</th>\n",
       "      <th>position</th>\n",
       "      <th>Tactical position</th>\n",
       "      <th>teammate</th>\n",
       "      <th>shot_polygon</th>\n",
       "      <th>does player interfer with the goal angle</th>\n",
       "    </tr>\n",
       "  </thead>\n",
       "  <tbody>\n",
       "    <tr>\n",
       "      <th>0</th>\n",
       "      <td>9848d3a6-448d-4b9c-8743-2d519857f24d</td>\n",
       "      <td>POINT (115.00000 42.00000)</td>\n",
       "      <td>Goalkeeper</td>\n",
       "      <td>False</td>\n",
       "      <td>POLYGON ((115.00000 42.00000, 120.00000 44.000...</td>\n",
       "      <td>True</td>\n",
       "    </tr>\n",
       "    <tr>\n",
       "      <th>1</th>\n",
       "      <td>9848d3a6-448d-4b9c-8743-2d519857f24d</td>\n",
       "      <td>POINT (115.00000 42.00000)</td>\n",
       "      <td>Goalkeeper</td>\n",
       "      <td>False</td>\n",
       "      <td>POLYGON ((112.00000 49.00000, 120.00000 44.000...</td>\n",
       "      <td>False</td>\n",
       "    </tr>\n",
       "    <tr>\n",
       "      <th>2</th>\n",
       "      <td>9848d3a6-448d-4b9c-8743-2d519857f24d</td>\n",
       "      <td>POINT (115.00000 42.00000)</td>\n",
       "      <td>Goalkeeper</td>\n",
       "      <td>False</td>\n",
       "      <td>POLYGON ((110.00000 36.00000, 120.00000 44.000...</td>\n",
       "      <td>False</td>\n",
       "    </tr>\n",
       "    <tr>\n",
       "      <th>3</th>\n",
       "      <td>9848d3a6-448d-4b9c-8743-2d519857f24d</td>\n",
       "      <td>POINT (115.00000 42.00000)</td>\n",
       "      <td>Goalkeeper</td>\n",
       "      <td>False</td>\n",
       "      <td>POLYGON ((112.00000 41.00000, 120.00000 44.000...</td>\n",
       "      <td>True</td>\n",
       "    </tr>\n",
       "    <tr>\n",
       "      <th>4</th>\n",
       "      <td>9848d3a6-448d-4b9c-8743-2d519857f24d</td>\n",
       "      <td>POINT (115.00000 42.00000)</td>\n",
       "      <td>Goalkeeper</td>\n",
       "      <td>False</td>\n",
       "      <td>POLYGON ((113.00000 37.00000, 120.00000 44.000...</td>\n",
       "      <td>False</td>\n",
       "    </tr>\n",
       "  </tbody>\n",
       "</table>\n",
       "</div>"
      ],
      "text/plain": [
       "                                     id                    position  \\\n",
       "0  9848d3a6-448d-4b9c-8743-2d519857f24d  POINT (115.00000 42.00000)   \n",
       "1  9848d3a6-448d-4b9c-8743-2d519857f24d  POINT (115.00000 42.00000)   \n",
       "2  9848d3a6-448d-4b9c-8743-2d519857f24d  POINT (115.00000 42.00000)   \n",
       "3  9848d3a6-448d-4b9c-8743-2d519857f24d  POINT (115.00000 42.00000)   \n",
       "4  9848d3a6-448d-4b9c-8743-2d519857f24d  POINT (115.00000 42.00000)   \n",
       "\n",
       "  Tactical position  teammate  \\\n",
       "0        Goalkeeper     False   \n",
       "1        Goalkeeper     False   \n",
       "2        Goalkeeper     False   \n",
       "3        Goalkeeper     False   \n",
       "4        Goalkeeper     False   \n",
       "\n",
       "                                        shot_polygon  \\\n",
       "0  POLYGON ((115.00000 42.00000, 120.00000 44.000...   \n",
       "1  POLYGON ((112.00000 49.00000, 120.00000 44.000...   \n",
       "2  POLYGON ((110.00000 36.00000, 120.00000 44.000...   \n",
       "3  POLYGON ((112.00000 41.00000, 120.00000 44.000...   \n",
       "4  POLYGON ((113.00000 37.00000, 120.00000 44.000...   \n",
       "\n",
       "   does player interfer with the goal angle  \n",
       "0                                      True  \n",
       "1                                     False  \n",
       "2                                     False  \n",
       "3                                      True  \n",
       "4                                     False  "
      ]
     },
     "execution_count": 23,
     "metadata": {},
     "output_type": "execute_result"
    }
   ],
   "source": [
    "player_positions.head()"
   ]
  },
  {
   "cell_type": "code",
   "execution_count": 14,
   "id": "ca9836fb",
   "metadata": {
    "scrolled": false
   },
   "outputs": [],
   "source": [
    "# Now we drop player who doesn't interefer with the shot angle\n",
    "player_positions= player_positions[player_positions['does player interfer with the goal angle']]\n",
    "\n",
    "# Now let's sum all angles that are occupied by non-shooter players for each shot\n"
   ]
  },
  {
   "cell_type": "code",
   "execution_count": 36,
   "id": "782e458f",
   "metadata": {},
   "outputs": [
    {
     "data": {
      "image/svg+xml": [
       "<svg xmlns=\"http://www.w3.org/2000/svg\" xmlns:xlink=\"http://www.w3.org/1999/xlink\" width=\"100.0\" height=\"100.0\" viewBox=\"109.6 35.6 10.800000000000011 8.799999999999997\" preserveAspectRatio=\"xMinYMin meet\"><g transform=\"matrix(1,0,0,-1,0,80.0)\"><path fill-rule=\"evenodd\" fill=\"#66cc99\" stroke=\"#555555\" stroke-width=\"0.21600000000000022\" opacity=\"0.6\" d=\"M 110.0,36.0 L 120.0,44.0 L 120.0,36.0 L 110.0,36.0 z\" /></g></svg>"
      ],
      "text/plain": [
       "<POLYGON ((110 36, 120 44, 120 36, 110 36))>"
      ]
     },
     "execution_count": 36,
     "metadata": {},
     "output_type": "execute_result"
    }
   ],
   "source": [
    "player_positions.shot_polygon[7]"
   ]
  },
  {
   "cell_type": "markdown",
   "id": "5e7982b9",
   "metadata": {},
   "source": [
    "## *Data Pre-processing*"
   ]
  },
  {
   "cell_type": "code",
   "execution_count": 2,
   "id": "ffcd11bc",
   "metadata": {},
   "outputs": [],
   "source": [
    "def process_json_file(file_path, shots_list):\n",
    "    with open(file_path, 'r') as file:\n",
    "        data = json.load(file)\n",
    "        for item in data:\n",
    "            shot = item.get('shot')\n",
    "            location = item.get('location')\n",
    "            if shot is not None:\n",
    "                shots_list.append((shot, location))"
   ]
  },
  {
   "cell_type": "code",
   "execution_count": 3,
   "id": "42fb515f",
   "metadata": {},
   "outputs": [],
   "source": [
    "def process_all_json_files_in_directory(directory):\n",
    "    shots_list = []\n",
    "    \n",
    "    for filename in os.listdir(directory):\n",
    "        if filename.endswith('.json'):\n",
    "            file_path = os.path.join(directory, filename)\n",
    "            process_json_file(file_path, shots_list)\n",
    "    \n",
    "    return shots_list"
   ]
  },
  {
   "cell_type": "code",
   "execution_count": 4,
   "id": "97406bf0",
   "metadata": {},
   "outputs": [],
   "source": [
    "json_directory = 'data/events'\n",
    "shots = process_all_json_files_in_directory(json_directory)\n",
    "# Create a DataFrame out of proceesed data\n",
    "df = pd.DataFrame(shots, columns=['Shot Value', 'Location'])\n",
    "df"
   ]
  },
  {
   "cell_type": "code",
   "execution_count": null,
   "id": "136a36f3",
   "metadata": {},
   "outputs": [],
   "source": []
  }
 ],
 "metadata": {
  "kernelspec": {
   "display_name": "Python 3 (ipykernel)",
   "language": "python",
   "name": "python3"
  },
  "language_info": {
   "codemirror_mode": {
    "name": "ipython",
    "version": 3
   },
   "file_extension": ".py",
   "mimetype": "text/x-python",
   "name": "python",
   "nbconvert_exporter": "python",
   "pygments_lexer": "ipython3",
   "version": "3.11.4"
  }
 },
 "nbformat": 4,
 "nbformat_minor": 5
}
